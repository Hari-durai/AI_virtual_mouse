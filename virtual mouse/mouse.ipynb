{
 "cells": [
  {
   "cell_type": "code",
   "execution_count": 2,
   "id": "34434158",
   "metadata": {},
   "outputs": [],
   "source": [
    "import cv2\n",
    "import mediapipe as mp\n",
    "import time\n",
    "import numpy as np\n",
    "import pyautogui"
   ]
  },
  {
   "cell_type": "code",
   "execution_count": 3,
   "id": "99fd1c72",
   "metadata": {
    "scrolled": false
   },
   "outputs": [
    {
     "name": "stderr",
     "output_type": "stream",
     "text": [
      "C:\\ProgramData\\Anaconda3\\lib\\site-packages\\google\\protobuf\\symbol_database.py:78: UserWarning: SymbolDatabase.GetPrototype() is deprecated. Please use message_factory.GetMessageClass() instead. SymbolDatabase.GetPrototype() will be removed soon.\n",
      "  warnings.warn('SymbolDatabase.GetPrototype() is deprecated. Please '\n"
     ]
    }
   ],
   "source": [
    "time.sleep(2.0)\n",
    "\n",
    "mp_draw=mp.solutions.drawing_utils\n",
    "mp_hand=mp.solutions.hands\n",
    "\n",
    "pyautogui.FAILSAFE = False\n",
    "tipIds=[4,8,12,16,20]\n",
    "wc,hc=640,480\n",
    "video=cv2.VideoCapture(0)\n",
    "video.set(3,wc)\n",
    "video.set(4,hc)\n",
    "framer=100\n",
    "ws,hs=1920,1080\n",
    "clx,cly=0,0\n",
    "plx,ply=0,0\n",
    "ptime=0\n",
    "smooth=4\n",
    "with mp_hand.Hands(min_detection_confidence=0.5,\n",
    "               min_tracking_confidence=0.5) as hands:\n",
    "    while True:\n",
    "        \n",
    "        ret,image=video.read()\n",
    "        image=cv2.flip(image,1)\n",
    "        image=cv2.cvtColor(image, cv2.COLOR_BGR2RGB)\n",
    "        image.flags.writeable=False\n",
    "        results=hands.process(image)\n",
    "        image.flags.writeable=True\n",
    "        image=cv2.cvtColor(image, cv2.COLOR_RGB2BGR)\n",
    "        lmList=[]\n",
    "        xlist=[]\n",
    "        ylist=[]\n",
    "        if results.multi_hand_landmarks:\n",
    "            for hand_landmark in results.multi_hand_landmarks: #for multi hand detect\n",
    "                myHands=results.multi_hand_landmarks[0]\n",
    "                for id, lm in enumerate(myHands.landmark):\n",
    "                    h,w,c=image.shape\n",
    "                    cx,cy= int(lm.x*w), int(lm.y*h)\n",
    "                    xlist.append(cx)\n",
    "                    ylist.append(cy)\n",
    "                    lmList.append([id,cx,cy])\n",
    "                mp_draw.draw_landmarks(image, hand_landmark, mp_hand.HAND_CONNECTIONS)\n",
    "        fingers=[]\n",
    "        cv2.rectangle(image, (framer, framer), (wc-framer, hc-framer), (0, 255, 0), 2)\n",
    "        if len(lmList)!=0:\n",
    "            x1,y1=lmList[8][1:]\n",
    "            x2,y2=lmList[12][1:]\n",
    "            if lmList[tipIds[0]][1] > lmList[tipIds[0]-1][1]:\n",
    "                fingers.append(1)\n",
    "            else:\n",
    "                fingers.append(0)\n",
    "            for id in range(1,5):\n",
    "                if lmList[tipIds[id]][2] < lmList[tipIds[id]-2][2]:\n",
    "                    fingers.append(1)\n",
    "                else:\n",
    "                    fingers.append(0)\n",
    "            total=fingers.count(1)\n",
    "            xmin,xmax=min(xlist),max(xlist)\n",
    "            ymin,ymax=min(ylist),max(ylist)\n",
    "            bbox=xmin,xmax,ymin,ymax\n",
    "            cv2.rectangle(image, (xmin-20, ymin-20), (xmax+20, ymax+20), (0, 255, 0), 2) \n",
    "            if fingers[1]==1 and fingers[2]==0:\n",
    "                x3=np.interp(x1,(framer,wc-framer),(0,ws))\n",
    "                y3=np.interp(y1,(framer,hc-framer),(0,hs))\n",
    "                clx=plx+ (x3-plx)/smooth\n",
    "                cly=ply+(y3-ply)/smooth\n",
    "                pyautogui.moveTo(clx,cly)\n",
    "                cv2.circle(image, (x1,y1),15, (0, 255, 0), cv2.FILLED)\n",
    "                plx,ply=clx,cly\n",
    "            if fingers[1]==1 and fingers[2]==1:\n",
    "                x3=np.interp(x2,(framer,wc-framer),(0,ws))\n",
    "                y3=np.interp(y2,(framer,hc-framer),(0,hs))\n",
    "               \n",
    "                pyautogui.click()\n",
    "                cv2.circle(image, (x1+40,y1-10),15, (0, 255, 0), cv2.FILLED)\n",
    "                \n",
    "\n",
    "        ctime=time.time()\n",
    "        fps=1/(ctime-ptime)\n",
    "        ptime=ctime\n",
    "        \n",
    "        cv2.putText(image, str(int(fps)), (45, 375), cv2.FONT_HERSHEY_SIMPLEX, 2, (255, 0, 0), 2)\n",
    "        cv2.imshow(\"Frame\",image)\n",
    "        k=cv2.waitKey(1)\n",
    "        if k==ord('q'):\n",
    "            break\n",
    "video.release()\n",
    "cv2.destroyAllWindows()\n",
    "\n",
    "\n"
   ]
  },
  {
   "cell_type": "code",
   "execution_count": null,
   "id": "320cf734",
   "metadata": {},
   "outputs": [],
   "source": []
  },
  {
   "cell_type": "code",
   "execution_count": null,
   "id": "59ef0c97",
   "metadata": {},
   "outputs": [],
   "source": []
  }
 ],
 "metadata": {
  "kernelspec": {
   "display_name": "Python 3 (ipykernel)",
   "language": "python",
   "name": "python3"
  },
  "language_info": {
   "codemirror_mode": {
    "name": "ipython",
    "version": 3
   },
   "file_extension": ".py",
   "mimetype": "text/x-python",
   "name": "python",
   "nbconvert_exporter": "python",
   "pygments_lexer": "ipython3",
   "version": "3.9.12"
  }
 },
 "nbformat": 4,
 "nbformat_minor": 5
}
